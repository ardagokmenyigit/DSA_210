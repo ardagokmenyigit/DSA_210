{
 "cells": [
  {
   "cell_type": "markdown",
   "id": "e5e3f78e",
   "metadata": {},
   "source": [
    "# Match Outcome Prediction using Betting Odds and Elo Ratings\n",
    "This notebook trains a Random Forest classifier to predict football match outcomes using pre-match betting odds and Elo ratings."
   ]
  },
  {
   "cell_type": "code",
   "execution_count": null,
   "id": "0f405b0e",
   "metadata": {},
   "outputs": [],
   "source": [
    "import pandas as pd\n",
    "from sklearn.model_selection import train_test_split\n",
    "from sklearn.ensemble import RandomForestClassifier\n",
    "from sklearn.metrics import accuracy_score, classification_report, confusion_matrix\n",
    "import matplotlib.pyplot as plt\n",
    "import seaborn as sns"
   ]
  },
  {
   "cell_type": "code",
   "execution_count": null,
   "id": "6bdc1d2a",
   "metadata": {},
   "outputs": [],
   "source": [
    "# Load the cleaned data\n",
    "df = pd.read_csv(\"cleaned_data.csv\")\n",
    "df.head()"
   ]
  },
  {
   "cell_type": "code",
   "execution_count": null,
   "id": "0928d3a8",
   "metadata": {},
   "outputs": [],
   "source": [
    "# Features and target\n",
    "X = df[['ProbH', 'ProbD', 'ProbA', 'EloDiff', 'HomeElo', 'AwayElo']]\n",
    "y = df['FTR']  # H: Home win, D: Draw, A: Away win"
   ]
  },
  {
   "cell_type": "code",
   "execution_count": null,
   "id": "0874bdbe",
   "metadata": {},
   "outputs": [],
   "source": [
    "# Split the dataset\n",
    "X_train, X_test, y_train, y_test = train_test_split(X, y, test_size=0.2, random_state=42)"
   ]
  },
  {
   "cell_type": "code",
   "execution_count": null,
   "id": "f56bd52c",
   "metadata": {},
   "outputs": [],
   "source": [
    "# Train Random Forest\n",
    "model = RandomForestClassifier(random_state=42)\n",
    "model.fit(X_train, y_train)"
   ]
  },
  {
   "cell_type": "code",
   "execution_count": null,
   "id": "96333945",
   "metadata": {},
   "outputs": [],
   "source": [
    "# Predict\n",
    "y_pred = model.predict(X_test)\n",
    "\n",
    "# Evaluation\n",
    "print(\"Accuracy:\", accuracy_score(y_test, y_pred))\n",
    "print(\"\\nClassification Report:\\n\", classification_report(y_test, y_pred))\n",
    "print(\"\\nConfusion Matrix:\\n\", confusion_matrix(y_test, y_pred))"
   ]
  },
  {
   "cell_type": "code",
   "execution_count": null,
   "id": "46904485",
   "metadata": {},
   "outputs": [],
   "source": [
    "# Feature importance\n",
    "feat_importances = model.feature_importances_\n",
    "sns.barplot(x=feat_importances, y=['ProbH', 'ProbD', 'ProbA', 'EloDiff', 'HomeElo', 'AwayElo'])\n",
    "plt.title(\"Feature Importance\")\n",
    "plt.xlabel(\"Importance\")\n",
    "plt.ylabel(\"Feature\")\n",
    "plt.tight_layout()\n",
    "plt.show()"
   ]
  }
 ],
 "metadata": {},
 "nbformat": 4,
 "nbformat_minor": 5
}
